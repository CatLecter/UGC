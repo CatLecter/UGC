{
 "cells": [
  {
   "cell_type": "code",
   "source": [
    "import pandas as pd\n",
    "from clickhouse_driver import Client"
   ],
   "metadata": {
    "collapsed": false,
    "ExecuteTime": {
     "end_time": "2024-07-22T19:18:23.671286Z",
     "start_time": "2024-07-22T19:18:23.668499Z"
    }
   },
   "outputs": [],
   "execution_count": 49
  },
  {
   "cell_type": "code",
   "source": [
    "client = Client(host=\"localhost\")"
   ],
   "metadata": {
    "collapsed": false,
    "ExecuteTime": {
     "end_time": "2024-07-22T19:18:23.718499Z",
     "start_time": "2024-07-22T19:18:23.715721Z"
    }
   },
   "outputs": [],
   "execution_count": 50
  },
  {
   "cell_type": "code",
   "source": [
    "client.execute(\"CREATE DATABASE IF NOT EXISTS test_db\")"
   ],
   "metadata": {
    "collapsed": false,
    "ExecuteTime": {
     "end_time": "2024-07-22T19:18:23.777867Z",
     "start_time": "2024-07-22T19:18:23.769701Z"
    }
   },
   "outputs": [
    {
     "data": {
      "text/plain": [
       "[]"
      ]
     },
     "execution_count": 51,
     "metadata": {},
     "output_type": "execute_result"
    }
   ],
   "execution_count": 51
  },
  {
   "cell_type": "code",
   "source": [
    "client.execute(\n",
    "    \"CREATE TABLE IF NOT EXISTS test_db.test_table (\"\n",
    "    \"    Id               UInt64  NOT NULL,\"\n",
    "    \"    EmployeeName     TEXT    NOT NULL,\"\n",
    "    \"    JobTitle         TEXT    NOT NULL,\"\n",
    "    \"    BasePay          Float64 NOT NULL,\"\n",
    "    \"    OvertimePay      Float64 NOT NULL,\"\n",
    "    \"    OtherPay         Float64 NOT NULL,\"\n",
    "    \"    Benefits         String  NOT NULL,\"\n",
    "    \"    TotalPay         Float64 NOT NULL,\"\n",
    "    \"    TotalPayBenefits Float64 NOT NULL,\"\n",
    "    \"    Year             UInt32  NOT NULL,\"\n",
    "    \"    Agency           String  NOT NULL,\"\n",
    "    \"    Status           String  NOT NULL \"\n",
    "    \") Engine=MergeTree() ORDER BY Id PRIMARY KEY Id\"\n",
    ")"
   ],
   "metadata": {
    "collapsed": false,
    "ExecuteTime": {
     "end_time": "2024-07-22T19:18:23.834849Z",
     "start_time": "2024-07-22T19:18:23.824442Z"
    }
   },
   "outputs": [
    {
     "data": {
      "text/plain": [
       "[]"
      ]
     },
     "execution_count": 52,
     "metadata": {},
     "output_type": "execute_result"
    }
   ],
   "execution_count": 52
  },
  {
   "cell_type": "code",
   "source": "df = pd.read_csv(\"./data/sf_salaries.csv\", delimiter=\",\", encoding=\"utf-8\", low_memory=False)",
   "metadata": {
    "collapsed": false,
    "ExecuteTime": {
     "end_time": "2024-07-22T19:18:24.624697Z",
     "start_time": "2024-07-22T19:18:23.874686Z"
    }
   },
   "outputs": [],
   "execution_count": 53
  },
  {
   "metadata": {
    "collapsed": false,
    "ExecuteTime": {
     "end_time": "2024-07-22T19:18:24.981483Z",
     "start_time": "2024-07-22T19:18:24.633475Z"
    }
   },
   "cell_type": "code",
   "source": [
    "df = df.drop('Notes', axis=1)\n",
    "df[\"EmployeeName\"] = df[\"EmployeeName\"].replace(\"Not Provided\", \"\")\n",
    "df[\"JobTitle\"] = df[\"JobTitle\"].replace(\"Not Provided\", \"\")\n",
    "df[\"BasePay\"] = df[\"BasePay\"].replace(\"Not Provided\", 0.0)\n",
    "df[\"OvertimePay\"] = df[\"OvertimePay\"].replace(\"Not Provided\", 0.0)\n",
    "df[\"OtherPay\"] = df[\"OtherPay\"].replace(\"Not Provided\", 0.0)\n",
    "df[\"Benefits\"] = df[\"Benefits\"].replace(\"Not Provided\", \"\")\n",
    "data: list = df.fillna(\n",
    "    value={\n",
    "        \"EmployeeName\": \"\",\n",
    "        \"JobTitle\": \"\",\n",
    "        \"BasePay\": 0.0,\n",
    "        \"OvertimePay\": 0.0,\n",
    "        \"OtherPay\": 0.0,\n",
    "        \"Benefits\": \"\",\n",
    "        \"TotalPay\": 0.0,\n",
    "        \"TotalPayBenefits\": 0.0,\n",
    "        \"Year\": 0,\n",
    "        \"Agency\": \"\",\n",
    "        \"Status\": \"\"\n",
    "    }\n",
    ").values.tolist()"
   ],
   "outputs": [],
   "execution_count": 54
  },
  {
   "metadata": {
    "ExecuteTime": {
     "end_time": "2024-07-22T19:18:25.527523Z",
     "start_time": "2024-07-22T19:18:24.991378Z"
    }
   },
   "cell_type": "code",
   "source": [
    "client.insert_dataframe(\n",
    "    query=\"INSERT INTO test_db.test_table VALUES\",\n",
    "    dataframe=pd.DataFrame(\n",
    "        data=data,\n",
    "        columns=[\"Id\", \"EmployeeName\", \"JobTitle\", \"BasePay\", \"OvertimePay\", \"OtherPay\", \"Benefits\", \"TotalPay\", \"TotalPayBenefits\", \"Year\", \"Agency\", \"Status\"]\n",
    "    ),\n",
    "    settings=dict(use_numpy=True)\n",
    ")"
   ],
   "outputs": [
    {
     "data": {
      "text/plain": [
       "148654"
      ]
     },
     "execution_count": 55,
     "metadata": {},
     "output_type": "execute_result"
    }
   ],
   "execution_count": 55
  },
  {
   "metadata": {
    "collapsed": false,
    "ExecuteTime": {
     "end_time": "2024-07-22T19:21:09.809297Z",
     "start_time": "2024-07-22T19:21:07.469667Z"
    }
   },
   "cell_type": "code",
   "source": [
    "%%timeit\n",
    "client.execute(\"SELECT * FROM test_db.test_table LIMIT 1\")"
   ],
   "outputs": [
    {
     "name": "stdout",
     "output_type": "stream",
     "text": [
      "2.7 ms ± 122 μs per loop (mean ± std. dev. of 7 runs, 100 loops each)\n"
     ]
    }
   ],
   "execution_count": 66
  },
  {
   "cell_type": "code",
   "source": [
    "%%timeit\n",
    "client.execute(\"SELECT count(*) FROM test_db.test_table WHERE OvertimePay > 30000\")"
   ],
   "metadata": {
    "collapsed": false,
    "ExecuteTime": {
     "end_time": "2024-07-22T19:21:32.415960Z",
     "start_time": "2024-07-22T19:21:30.170372Z"
    }
   },
   "outputs": [
    {
     "name": "stdout",
     "output_type": "stream",
     "text": [
      "2.38 ms ± 146 μs per loop (mean ± std. dev. of 7 runs, 100 loops each)\n"
     ]
    }
   ],
   "execution_count": 69
  },
  {
   "cell_type": "code",
   "source": "client.execute(\"ALTER TABLE test_db.test_table ADD INDEX IdxOvertimePay OvertimePay TYPE bloom_filter GRANULARITY 8192\")",
   "metadata": {
    "collapsed": false,
    "ExecuteTime": {
     "end_time": "2024-07-22T19:31:39.656252Z",
     "start_time": "2024-07-22T19:31:39.645593Z"
    }
   },
   "outputs": [
    {
     "data": {
      "text/plain": [
       "[]"
      ]
     },
     "execution_count": 70,
     "metadata": {},
     "output_type": "execute_result"
    }
   ],
   "execution_count": 70
  },
  {
   "metadata": {
    "ExecuteTime": {
     "end_time": "2024-07-22T19:33:47.761457Z",
     "start_time": "2024-07-22T19:33:45.806666Z"
    }
   },
   "cell_type": "code",
   "source": [
    "%%timeit\n",
    "client.execute(\"SELECT count(*) FROM test_db.test_table WHERE OvertimePay > 30000\")"
   ],
   "outputs": [
    {
     "name": "stdout",
     "output_type": "stream",
     "text": [
      "2.35 ms ± 49.6 μs per loop (mean ± std. dev. of 7 runs, 100 loops each)\n"
     ]
    }
   ],
   "execution_count": 73
  },
  {
   "metadata": {},
   "cell_type": "code",
   "outputs": [],
   "execution_count": null,
   "source": ""
  }
 ],
 "metadata": {
  "kernelspec": {
   "display_name": "Python 3",
   "language": "python",
   "name": "python3"
  },
  "language_info": {
   "codemirror_mode": {
    "name": "ipython",
    "version": 2
   },
   "file_extension": ".py",
   "mimetype": "text/x-python",
   "name": "python",
   "nbconvert_exporter": "python",
   "pygments_lexer": "ipython2",
   "version": "2.7.6"
  }
 },
 "nbformat": 4,
 "nbformat_minor": 0
}
