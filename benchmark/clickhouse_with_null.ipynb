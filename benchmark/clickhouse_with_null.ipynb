{
 "cells": [
  {
   "cell_type": "code",
   "source": [
    "import pandas as pd\n",
    "from clickhouse_driver import Client"
   ],
   "metadata": {
    "collapsed": false,
    "ExecuteTime": {
     "end_time": "2024-07-22T19:16:00.441003Z",
     "start_time": "2024-07-22T19:16:00.438454Z"
    }
   },
   "outputs": [],
   "execution_count": 78
  },
  {
   "cell_type": "code",
   "source": [
    "client = Client(host=\"localhost\")"
   ],
   "metadata": {
    "collapsed": false,
    "ExecuteTime": {
     "end_time": "2024-07-22T19:16:00.452980Z",
     "start_time": "2024-07-22T19:16:00.450468Z"
    }
   },
   "outputs": [],
   "execution_count": 79
  },
  {
   "cell_type": "code",
   "source": [
    "client.execute(\"CREATE DATABASE IF NOT EXISTS test_db\")"
   ],
   "metadata": {
    "collapsed": false,
    "ExecuteTime": {
     "end_time": "2024-07-22T19:16:00.510479Z",
     "start_time": "2024-07-22T19:16:00.501971Z"
    }
   },
   "outputs": [
    {
     "data": {
      "text/plain": [
       "[]"
      ]
     },
     "execution_count": 80,
     "metadata": {},
     "output_type": "execute_result"
    }
   ],
   "execution_count": 80
  },
  {
   "cell_type": "code",
   "source": [
    "client.execute(\n",
    "    \"CREATE TABLE IF NOT EXISTS test_db.test_table_with_null (\"\n",
    "    \"    Id               UInt64  NOT NULL,\"\n",
    "    \"    EmployeeName     Nullable(TEXT),\"\n",
    "    \"    JobTitle         Nullable(TEXT),\"\n",
    "    \"    BasePay          Nullable(Float64),\"\n",
    "    \"    OvertimePay      Nullable(Float64),\"\n",
    "    \"    OtherPay         Nullable(Float64),\"\n",
    "    \"    Benefits         Nullable(String),\"\n",
    "    \"    TotalPay         Nullable(Float64),\"\n",
    "    \"    TotalPayBenefits Nullable(Float64),\"\n",
    "    \"    Year             Nullable(UInt32),\"\n",
    "    \"    Agency           Nullable(String),\"\n",
    "    \"    Status           Nullable(String)\"\n",
    "    \") Engine=MergeTree() ORDER BY Id PRIMARY KEY Id\"\n",
    ")"
   ],
   "metadata": {
    "collapsed": false,
    "ExecuteTime": {
     "end_time": "2024-07-22T19:16:00.631891Z",
     "start_time": "2024-07-22T19:16:00.619156Z"
    }
   },
   "outputs": [
    {
     "data": {
      "text/plain": [
       "[]"
      ]
     },
     "execution_count": 81,
     "metadata": {},
     "output_type": "execute_result"
    }
   ],
   "execution_count": 81
  },
  {
   "cell_type": "code",
   "source": [
    "df = pd.read_csv(\"./data/sf_salaries.csv\", delimiter=\",\", encoding=\"utf-8\", low_memory=False)"
   ],
   "metadata": {
    "collapsed": false,
    "ExecuteTime": {
     "end_time": "2024-07-22T19:16:01.470778Z",
     "start_time": "2024-07-22T19:16:00.734910Z"
    }
   },
   "outputs": [],
   "execution_count": 82
  },
  {
   "cell_type": "code",
   "source": [
    "df = df.drop('Notes', axis=1)\n",
    "df[\"EmployeeName\"] = df[\"EmployeeName\"].replace(\"Not Provided\", None)\n",
    "df[\"JobTitle\"] = df[\"JobTitle\"].replace(\"Not Provided\", None)\n",
    "df[\"BasePay\"] = df[\"BasePay\"].replace(\"Not Provided\", None)\n",
    "df[\"OvertimePay\"] = df[\"OvertimePay\"].replace(\"0.0\", None)\n",
    "df[\"OvertimePay\"] = df[\"OvertimePay\"].replace(\"Not Provided\", None)\n",
    "df[\"OtherPay\"] = df[\"OtherPay\"].replace(\"0.0\", None)\n",
    "df[\"OtherPay\"] = df[\"OtherPay\"].replace(\"Not Provided\", None)\n",
    "df[\"Benefits\"] = df[\"Benefits\"].replace(\"0.0\", None)\n",
    "df[\"Benefits\"] = df[\"Benefits\"].replace(\"0.00\", None)\n",
    "df[\"Benefits\"] = df[\"Benefits\"].replace(\"Not Provided\", None)\n",
    "data: list = df.values.tolist()"
   ],
   "metadata": {
    "collapsed": false,
    "ExecuteTime": {
     "end_time": "2024-07-22T19:16:01.755383Z",
     "start_time": "2024-07-22T19:16:01.479826Z"
    }
   },
   "outputs": [],
   "execution_count": 83
  },
  {
   "metadata": {
    "ExecuteTime": {
     "end_time": "2024-07-22T19:16:02.579757Z",
     "start_time": "2024-07-22T19:16:01.764765Z"
    }
   },
   "cell_type": "code",
   "source": [
    "client.insert_dataframe(\n",
    "    query=\"INSERT INTO test_db.test_table_with_null VALUES\",\n",
    "    dataframe=pd.DataFrame(\n",
    "        data=data,\n",
    "        columns=[\"Id\", \"EmployeeName\", \"JobTitle\", \"BasePay\", \"OvertimePay\", \"OtherPay\", \"Benefits\", \"TotalPay\", \"TotalPayBenefits\", \"Year\", \"Agency\", \"Status\"]\n",
    "    ),\n",
    "    settings=dict(use_numpy=True)\n",
    ")"
   ],
   "outputs": [
    {
     "data": {
      "text/plain": [
       "148654"
      ]
     },
     "execution_count": 84,
     "metadata": {},
     "output_type": "execute_result"
    }
   ],
   "execution_count": 84
  },
  {
   "cell_type": "code",
   "source": [
    "%%timeit\n",
    "client.execute(\"SELECT * FROM test_db.test_table_with_null LIMIT 1\")"
   ],
   "metadata": {
    "collapsed": false,
    "ExecuteTime": {
     "end_time": "2024-07-22T19:21:56.911039Z",
     "start_time": "2024-07-22T19:21:54.003400Z"
    }
   },
   "outputs": [
    {
     "name": "stdout",
     "output_type": "stream",
     "text": [
      "3.38 ms ± 128 μs per loop (mean ± std. dev. of 7 runs, 100 loops each)\n"
     ]
    }
   ],
   "execution_count": 101
  },
  {
   "cell_type": "code",
   "source": [
    "%%timeit\n",
    "client.execute(\"SELECT count(*) FROM test_db.test_table_with_null WHERE OvertimePay > 30000\")"
   ],
   "metadata": {
    "collapsed": false,
    "ExecuteTime": {
     "end_time": "2024-07-22T19:22:51.333936Z",
     "start_time": "2024-07-22T19:22:49.030213Z"
    }
   },
   "outputs": [
    {
     "name": "stdout",
     "output_type": "stream",
     "text": [
      "2.67 ms ± 80.4 μs per loop (mean ± std. dev. of 7 runs, 100 loops each)\n"
     ]
    }
   ],
   "execution_count": 109
  },
  {
   "cell_type": "code",
   "source": "client.execute(\"ALTER TABLE test_db.test_table_with_null ADD INDEX IdxOvertimePay OvertimePay TYPE bloom_filter GRANULARITY 8192\")\n",
   "metadata": {
    "collapsed": false,
    "ExecuteTime": {
     "end_time": "2024-07-22T19:34:06.058237Z",
     "start_time": "2024-07-22T19:34:06.047959Z"
    }
   },
   "outputs": [
    {
     "data": {
      "text/plain": [
       "[]"
      ]
     },
     "execution_count": 110,
     "metadata": {},
     "output_type": "execute_result"
    }
   ],
   "execution_count": 110
  },
  {
   "metadata": {
    "ExecuteTime": {
     "end_time": "2024-07-22T19:40:32.057357Z",
     "start_time": "2024-07-22T19:40:29.698176Z"
    }
   },
   "cell_type": "code",
   "source": [
    "%%timeit\n",
    "client.execute(\"SELECT count(*) FROM test_db.test_table_with_null WHERE OvertimePay > 30000\")"
   ],
   "outputs": [
    {
     "name": "stdout",
     "output_type": "stream",
     "text": [
      "2.84 ms ± 52.7 μs per loop (mean ± std. dev. of 7 runs, 100 loops each)\n"
     ]
    }
   ],
   "execution_count": 125
  },
  {
   "metadata": {},
   "cell_type": "code",
   "outputs": [],
   "execution_count": null,
   "source": ""
  }
 ],
 "metadata": {
  "kernelspec": {
   "display_name": "Python 3",
   "language": "python",
   "name": "python3"
  },
  "language_info": {
   "codemirror_mode": {
    "name": "ipython",
    "version": 2
   },
   "file_extension": ".py",
   "mimetype": "text/x-python",
   "name": "python",
   "nbconvert_exporter": "python",
   "pygments_lexer": "ipython2",
   "version": "2.7.6"
  }
 },
 "nbformat": 4,
 "nbformat_minor": 0
}
